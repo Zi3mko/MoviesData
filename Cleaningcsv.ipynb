{
 "cells": [
  {
   "cell_type": "code",
   "execution_count": 33,
   "metadata": {},
   "outputs": [],
   "source": [
    "import pandas as pd"
   ]
  },
  {
   "cell_type": "code",
   "execution_count": 34,
   "metadata": {},
   "outputs": [],
   "source": [
    "amazon = pd.read_csv(\"amazon_prime_titles.csv\")\n",
    "disney = pd.read_csv(\"disney_plus_titles.csv\")\n",
    "hulu = pd.read_csv(\"hulu_titles.csv\")\n",
    "netflix = pd.read_csv(\"netflix_titles.csv\")"
   ]
  },
  {
   "cell_type": "code",
   "execution_count": 35,
   "metadata": {},
   "outputs": [],
   "source": [
    "amazon = amazon.drop(['show_id','date_added'],axis=1)\n",
    "disney = disney.drop(['show_id','date_added'],axis=1)\n",
    "hulu = hulu.drop(['show_id','date_added'],axis=1)\n",
    "netflix = netflix.drop(['show_id','date_added'],axis=1)"
   ]
  },
  {
   "cell_type": "code",
   "execution_count": 40,
   "metadata": {},
   "outputs": [],
   "source": [
    "frames = [amazon,disney,hulu,netflix]\n",
    "df = pd.concat(frames)\n",
    "df = df.dropna(axis=0,subset=['director', 'release_year'])\n",
    "df = df.drop([\"country\",\"rating\"],axis=1)"
   ]
  },
  {
   "cell_type": "code",
   "execution_count": 58,
   "metadata": {},
   "outputs": [],
   "source": [
    "df.to_csv('Movies.csv', encoding='utf-8', index=False)"
   ]
  }
 ],
 "metadata": {
  "interpreter": {
   "hash": "d1d35eabf3721ea4a5d927015141dd7b964c54974d6440f73fb73e9d1e864a70"
  },
  "kernelspec": {
   "display_name": "Python 3.8.8 64-bit ('base': conda)",
   "language": "python",
   "name": "python3"
  },
  "language_info": {
   "codemirror_mode": {
    "name": "ipython",
    "version": 3
   },
   "file_extension": ".py",
   "mimetype": "text/x-python",
   "name": "python",
   "nbconvert_exporter": "python",
   "pygments_lexer": "ipython3",
   "version": "3.8.8"
  },
  "orig_nbformat": 4
 },
 "nbformat": 4,
 "nbformat_minor": 2
}
